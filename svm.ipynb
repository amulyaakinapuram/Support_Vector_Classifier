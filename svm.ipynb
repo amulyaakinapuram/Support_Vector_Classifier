{
  "cells": [
    {
      "cell_type": "code",
      "execution_count": 1,
      "metadata": {
        "id": "4h-5AovWj5IL"
      },
      "outputs": [],
      "source": [
        "#importing necessary libraries\n",
        "import os \n",
        "import pandas as pd\n",
        "import numpy as np\n",
        "import matplotlib.pyplot as plt\n",
        "import seaborn as sns\n",
        "%matplotlib inline\n",
        "\n",
        "import warnings\n",
        "warnings.simplefilter('ignore', FutureWarning)"
      ]
    },
    {
      "cell_type": "code",
      "execution_count": 2,
      "metadata": {
        "id": "eFjkJunym-kd"
      },
      "outputs": [],
      "source": [
        "#loading the Avila dataset\n",
        "dat=pd.read_csv(\"Avila-DataSet for miniprojects.csv\")"
      ]
    },
    {
      "cell_type": "code",
      "execution_count": 3,
      "metadata": {
        "colab": {
          "base_uri": "https://localhost:8080/"
        },
        "id": "4eH1M_HinQ00",
        "outputId": "7b9b5a8e-a5ba-45d7-9bea-21828c99b85d"
      },
      "outputs": [
        {
          "data": {
            "text/plain": [
              "(20867, 11)"
            ]
          },
          "execution_count": 3,
          "metadata": {},
          "output_type": "execute_result"
        }
      ],
      "source": [
        "#finding the dimension of the dataset\n",
        "dat.shape"
      ]
    },
    {
      "cell_type": "code",
      "execution_count": 4,
      "metadata": {
        "colab": {
          "base_uri": "https://localhost:8080/",
          "height": 267
        },
        "id": "iCrxOfx0nYhz",
        "outputId": "6225e93e-3fe1-4623-f9df-d009f194bf3d"
      },
      "outputs": [
        {
          "data": {
            "text/html": [
              "\n",
              "  <div id=\"df-f30d9512-3de5-4066-8b87-598472239a76\">\n",
              "    <div class=\"colab-df-container\">\n",
              "      <div>\n",
              "<style scoped>\n",
              "    .dataframe tbody tr th:only-of-type {\n",
              "        vertical-align: middle;\n",
              "    }\n",
              "\n",
              "    .dataframe tbody tr th {\n",
              "        vertical-align: top;\n",
              "    }\n",
              "\n",
              "    .dataframe thead th {\n",
              "        text-align: right;\n",
              "    }\n",
              "</style>\n",
              "<table border=\"1\" class=\"dataframe\">\n",
              "  <thead>\n",
              "    <tr style=\"text-align: right;\">\n",
              "      <th></th>\n",
              "      <th>Intercolumnar distance</th>\n",
              "      <th>upper margin</th>\n",
              "      <th>lower margin</th>\n",
              "      <th>exploitation</th>\n",
              "      <th>row number</th>\n",
              "      <th>modular ratio</th>\n",
              "      <th>interlinear spacing</th>\n",
              "      <th>weight</th>\n",
              "      <th>peak number</th>\n",
              "      <th>modular ratio/ interlinear spacing</th>\n",
              "      <th>Class: A, B, C, D, E, F, G, H, I, W, X, Y</th>\n",
              "    </tr>\n",
              "  </thead>\n",
              "  <tbody>\n",
              "    <tr>\n",
              "      <th>0</th>\n",
              "      <td>0.266074</td>\n",
              "      <td>-0.165620</td>\n",
              "      <td>0.320980</td>\n",
              "      <td>0.483299</td>\n",
              "      <td>0.172340</td>\n",
              "      <td>0.273364</td>\n",
              "      <td>0.371178</td>\n",
              "      <td>0.929823</td>\n",
              "      <td>0.251173</td>\n",
              "      <td>0.159345</td>\n",
              "      <td>A</td>\n",
              "    </tr>\n",
              "    <tr>\n",
              "      <th>1</th>\n",
              "      <td>0.130292</td>\n",
              "      <td>0.870736</td>\n",
              "      <td>-3.210528</td>\n",
              "      <td>0.062493</td>\n",
              "      <td>0.261718</td>\n",
              "      <td>1.436060</td>\n",
              "      <td>1.465940</td>\n",
              "      <td>0.636203</td>\n",
              "      <td>0.282354</td>\n",
              "      <td>0.515587</td>\n",
              "      <td>A</td>\n",
              "    </tr>\n",
              "    <tr>\n",
              "      <th>2</th>\n",
              "      <td>-0.116585</td>\n",
              "      <td>0.069915</td>\n",
              "      <td>0.068476</td>\n",
              "      <td>-0.783147</td>\n",
              "      <td>0.261718</td>\n",
              "      <td>0.439463</td>\n",
              "      <td>-0.081827</td>\n",
              "      <td>-0.888236</td>\n",
              "      <td>-0.123005</td>\n",
              "      <td>0.582939</td>\n",
              "      <td>A</td>\n",
              "    </tr>\n",
              "    <tr>\n",
              "      <th>3</th>\n",
              "      <td>0.031541</td>\n",
              "      <td>0.297600</td>\n",
              "      <td>-3.210528</td>\n",
              "      <td>-0.583590</td>\n",
              "      <td>-0.721442</td>\n",
              "      <td>-0.307984</td>\n",
              "      <td>0.710932</td>\n",
              "      <td>1.051693</td>\n",
              "      <td>0.594169</td>\n",
              "      <td>-0.533994</td>\n",
              "      <td>A</td>\n",
              "    </tr>\n",
              "    <tr>\n",
              "      <th>4</th>\n",
              "      <td>0.229043</td>\n",
              "      <td>0.807926</td>\n",
              "      <td>-0.052442</td>\n",
              "      <td>0.082634</td>\n",
              "      <td>0.261718</td>\n",
              "      <td>0.148790</td>\n",
              "      <td>0.635431</td>\n",
              "      <td>0.051062</td>\n",
              "      <td>0.032902</td>\n",
              "      <td>-0.086652</td>\n",
              "      <td>F</td>\n",
              "    </tr>\n",
              "  </tbody>\n",
              "</table>\n",
              "</div>\n",
              "      <button class=\"colab-df-convert\" onclick=\"convertToInteractive('df-f30d9512-3de5-4066-8b87-598472239a76')\"\n",
              "              title=\"Convert this dataframe to an interactive table.\"\n",
              "              style=\"display:none;\">\n",
              "        \n",
              "  <svg xmlns=\"http://www.w3.org/2000/svg\" height=\"24px\"viewBox=\"0 0 24 24\"\n",
              "       width=\"24px\">\n",
              "    <path d=\"M0 0h24v24H0V0z\" fill=\"none\"/>\n",
              "    <path d=\"M18.56 5.44l.94 2.06.94-2.06 2.06-.94-2.06-.94-.94-2.06-.94 2.06-2.06.94zm-11 1L8.5 8.5l.94-2.06 2.06-.94-2.06-.94L8.5 2.5l-.94 2.06-2.06.94zm10 10l.94 2.06.94-2.06 2.06-.94-2.06-.94-.94-2.06-.94 2.06-2.06.94z\"/><path d=\"M17.41 7.96l-1.37-1.37c-.4-.4-.92-.59-1.43-.59-.52 0-1.04.2-1.43.59L10.3 9.45l-7.72 7.72c-.78.78-.78 2.05 0 2.83L4 21.41c.39.39.9.59 1.41.59.51 0 1.02-.2 1.41-.59l7.78-7.78 2.81-2.81c.8-.78.8-2.07 0-2.86zM5.41 20L4 18.59l7.72-7.72 1.47 1.35L5.41 20z\"/>\n",
              "  </svg>\n",
              "      </button>\n",
              "      \n",
              "  <style>\n",
              "    .colab-df-container {\n",
              "      display:flex;\n",
              "      flex-wrap:wrap;\n",
              "      gap: 12px;\n",
              "    }\n",
              "\n",
              "    .colab-df-convert {\n",
              "      background-color: #E8F0FE;\n",
              "      border: none;\n",
              "      border-radius: 50%;\n",
              "      cursor: pointer;\n",
              "      display: none;\n",
              "      fill: #1967D2;\n",
              "      height: 32px;\n",
              "      padding: 0 0 0 0;\n",
              "      width: 32px;\n",
              "    }\n",
              "\n",
              "    .colab-df-convert:hover {\n",
              "      background-color: #E2EBFA;\n",
              "      box-shadow: 0px 1px 2px rgba(60, 64, 67, 0.3), 0px 1px 3px 1px rgba(60, 64, 67, 0.15);\n",
              "      fill: #174EA6;\n",
              "    }\n",
              "\n",
              "    [theme=dark] .colab-df-convert {\n",
              "      background-color: #3B4455;\n",
              "      fill: #D2E3FC;\n",
              "    }\n",
              "\n",
              "    [theme=dark] .colab-df-convert:hover {\n",
              "      background-color: #434B5C;\n",
              "      box-shadow: 0px 1px 3px 1px rgba(0, 0, 0, 0.15);\n",
              "      filter: drop-shadow(0px 1px 2px rgba(0, 0, 0, 0.3));\n",
              "      fill: #FFFFFF;\n",
              "    }\n",
              "  </style>\n",
              "\n",
              "      <script>\n",
              "        const buttonEl =\n",
              "          document.querySelector('#df-f30d9512-3de5-4066-8b87-598472239a76 button.colab-df-convert');\n",
              "        buttonEl.style.display =\n",
              "          google.colab.kernel.accessAllowed ? 'block' : 'none';\n",
              "\n",
              "        async function convertToInteractive(key) {\n",
              "          const element = document.querySelector('#df-f30d9512-3de5-4066-8b87-598472239a76');\n",
              "          const dataTable =\n",
              "            await google.colab.kernel.invokeFunction('convertToInteractive',\n",
              "                                                     [key], {});\n",
              "          if (!dataTable) return;\n",
              "\n",
              "          const docLinkHtml = 'Like what you see? Visit the ' +\n",
              "            '<a target=\"_blank\" href=https://colab.research.google.com/notebooks/data_table.ipynb>data table notebook</a>'\n",
              "            + ' to learn more about interactive tables.';\n",
              "          element.innerHTML = '';\n",
              "          dataTable['output_type'] = 'display_data';\n",
              "          await google.colab.output.renderOutput(dataTable, element);\n",
              "          const docLink = document.createElement('div');\n",
              "          docLink.innerHTML = docLinkHtml;\n",
              "          element.appendChild(docLink);\n",
              "        }\n",
              "      </script>\n",
              "    </div>\n",
              "  </div>\n",
              "  "
            ],
            "text/plain": [
              "   Intercolumnar distance   upper margin    lower margin   exploitation   \\\n",
              "0                 0.266074      -0.165620        0.320980       0.483299   \n",
              "1                 0.130292       0.870736       -3.210528       0.062493   \n",
              "2                -0.116585       0.069915        0.068476      -0.783147   \n",
              "3                 0.031541       0.297600       -3.210528      -0.583590   \n",
              "4                 0.229043       0.807926       -0.052442       0.082634   \n",
              "\n",
              "   row number   modular ratio   interlinear spacing    weight    peak number   \\\n",
              "0     0.172340        0.273364              0.371178  0.929823       0.251173   \n",
              "1     0.261718        1.436060              1.465940  0.636203       0.282354   \n",
              "2     0.261718        0.439463             -0.081827 -0.888236      -0.123005   \n",
              "3    -0.721442       -0.307984              0.710932  1.051693       0.594169   \n",
              "4     0.261718        0.148790              0.635431  0.051062       0.032902   \n",
              "\n",
              "   modular ratio/ interlinear spacing  \\\n",
              "0                            0.159345   \n",
              "1                            0.515587   \n",
              "2                            0.582939   \n",
              "3                           -0.533994   \n",
              "4                           -0.086652   \n",
              "\n",
              "  Class: A, B, C, D, E, F, G, H, I, W, X, Y  \n",
              "0                                         A  \n",
              "1                                         A  \n",
              "2                                         A  \n",
              "3                                         A  \n",
              "4                                         F  "
            ]
          },
          "execution_count": 4,
          "metadata": {},
          "output_type": "execute_result"
        }
      ],
      "source": [
        "#finding the first five rows from the dataset\n",
        "dat.head()"
      ]
    },
    {
      "cell_type": "code",
      "execution_count": 5,
      "metadata": {
        "colab": {
          "base_uri": "https://localhost:8080/"
        },
        "id": "xK-Z_Y1ynhOZ",
        "outputId": "9fa4dada-c2a4-435c-9280-f4d3773b8a7f"
      },
      "outputs": [
        {
          "data": {
            "text/plain": [
              "Intercolumnar distance                       0\n",
              "upper margin                                 0\n",
              " lower margin                                0\n",
              "exploitation                                 0\n",
              "row number                                   0\n",
              "modular ratio                                0\n",
              "interlinear spacing                          0\n",
              "weight                                       0\n",
              " peak number                                 0\n",
              "modular ratio/ interlinear spacing           0\n",
              "Class: A, B, C, D, E, F, G, H, I, W, X, Y    0\n",
              "dtype: int64"
            ]
          },
          "execution_count": 5,
          "metadata": {},
          "output_type": "execute_result"
        }
      ],
      "source": [
        "#finding the null values\n",
        "dat.isnull().sum()"
      ]
    },
    {
      "cell_type": "code",
      "execution_count": 6,
      "metadata": {
        "id": "0Per4a82nof2"
      },
      "outputs": [],
      "source": [
        "#replacing column name\n",
        "dat[\"Class\"]=dat[\"Class: A, B, C, D, E, F, G, H, I, W, X, Y\"]"
      ]
    },
    {
      "cell_type": "code",
      "execution_count": 7,
      "metadata": {
        "id": "DunJgXcXnx5Z"
      },
      "outputs": [],
      "source": [
        "#removing the Class: A, B, C, D, E, F, G, H, I, W, X, Y column\n",
        "dat.drop(\"Class: A, B, C, D, E, F, G, H, I, W, X, Y\",axis=\"columns\",inplace=True)"
      ]
    },
    {
      "cell_type": "code",
      "execution_count": 8,
      "metadata": {
        "id": "ZFZv7qmXoILE"
      },
      "outputs": [],
      "source": [
        "#selecting only A,E,F,H classes\n",
        "dat_sub=dat[dat[\"Class\"].isin(['A','E','F','H'])] "
      ]
    },
    {
      "cell_type": "code",
      "execution_count": 9,
      "metadata": {
        "colab": {
          "base_uri": "https://localhost:8080/"
        },
        "id": "68Mg4cXboNtq",
        "outputId": "4bd0033c-379b-48f0-a7dd-a06cc294a329"
      },
      "outputs": [
        {
          "data": {
            "text/plain": [
              "array(['A', 'F', 'H', 'E'], dtype=object)"
            ]
          },
          "execution_count": 9,
          "metadata": {},
          "output_type": "execute_result"
        }
      ],
      "source": [
        "#obtaining the unique elements\n",
        "dat_sub.Class.unique()"
      ]
    },
    {
      "cell_type": "code",
      "execution_count": 10,
      "metadata": {
        "id": "sbtIVh5goa1e"
      },
      "outputs": [],
      "source": [
        "#importing the LabelEncoder from sklearn\n",
        "from sklearn.preprocessing import LabelEncoder\n",
        "le=LabelEncoder()"
      ]
    },
    {
      "cell_type": "code",
      "execution_count": 11,
      "metadata": {
        "colab": {
          "base_uri": "https://localhost:8080/"
        },
        "id": "KqniZyMxo0MH",
        "outputId": "27d605b4-8629-45b6-9884-cbda1c3af4c4"
      },
      "outputs": [
        {
          "data": {
            "text/plain": [
              "LabelEncoder()"
            ]
          },
          "execution_count": 11,
          "metadata": {},
          "output_type": "execute_result"
        }
      ],
      "source": [
        "#fitting the model to encode class:A=0,E=1,F=2,H=3\n",
        "le.fit(dat_sub[\"Class\"])"
      ]
    },
    {
      "cell_type": "code",
      "execution_count": 12,
      "metadata": {
        "colab": {
          "base_uri": "https://localhost:8080/"
        },
        "id": "EQzOmZZHpQ1i",
        "outputId": "831686a0-7358-450d-ef45-4430461973bf"
      },
      "outputs": [
        {
          "name": "stderr",
          "output_type": "stream",
          "text": [
            "/usr/local/lib/python3.7/dist-packages/ipykernel_launcher.py:2: SettingWithCopyWarning: \n",
            "A value is trying to be set on a copy of a slice from a DataFrame.\n",
            "Try using .loc[row_indexer,col_indexer] = value instead\n",
            "\n",
            "See the caveats in the documentation: https://pandas.pydata.org/pandas-docs/stable/user_guide/indexing.html#returning-a-view-versus-a-copy\n",
            "  \n"
          ]
        }
      ],
      "source": [
        "#assigning the encoded values to the Classes A,F,H,E\n",
        "dat_sub[\"encoded_class\"]=le.transform(dat_sub[\"Class\"])"
      ]
    },
    {
      "cell_type": "code",
      "execution_count": 13,
      "metadata": {
        "colab": {
          "base_uri": "https://localhost:8080/",
          "height": 485
        },
        "id": "mltm6pdKpFzm",
        "outputId": "0f49f0f0-2405-4d20-8c16-55b21b764deb"
      },
      "outputs": [
        {
          "data": {
            "text/html": [
              "\n",
              "  <div id=\"df-38b13e80-87e1-4c79-8f45-fb470cd4453c\">\n",
              "    <div class=\"colab-df-container\">\n",
              "      <div>\n",
              "<style scoped>\n",
              "    .dataframe tbody tr th:only-of-type {\n",
              "        vertical-align: middle;\n",
              "    }\n",
              "\n",
              "    .dataframe tbody tr th {\n",
              "        vertical-align: top;\n",
              "    }\n",
              "\n",
              "    .dataframe thead th {\n",
              "        text-align: right;\n",
              "    }\n",
              "</style>\n",
              "<table border=\"1\" class=\"dataframe\">\n",
              "  <thead>\n",
              "    <tr style=\"text-align: right;\">\n",
              "      <th></th>\n",
              "      <th>Intercolumnar distance</th>\n",
              "      <th>upper margin</th>\n",
              "      <th>lower margin</th>\n",
              "      <th>exploitation</th>\n",
              "      <th>row number</th>\n",
              "      <th>modular ratio</th>\n",
              "      <th>interlinear spacing</th>\n",
              "      <th>weight</th>\n",
              "      <th>peak number</th>\n",
              "      <th>modular ratio/ interlinear spacing</th>\n",
              "      <th>Class</th>\n",
              "      <th>encoded_class</th>\n",
              "    </tr>\n",
              "  </thead>\n",
              "  <tbody>\n",
              "    <tr>\n",
              "      <th>0</th>\n",
              "      <td>0.266074</td>\n",
              "      <td>-0.165620</td>\n",
              "      <td>0.320980</td>\n",
              "      <td>0.483299</td>\n",
              "      <td>0.172340</td>\n",
              "      <td>0.273364</td>\n",
              "      <td>0.371178</td>\n",
              "      <td>0.929823</td>\n",
              "      <td>0.251173</td>\n",
              "      <td>0.159345</td>\n",
              "      <td>A</td>\n",
              "      <td>0</td>\n",
              "    </tr>\n",
              "    <tr>\n",
              "      <th>1</th>\n",
              "      <td>0.130292</td>\n",
              "      <td>0.870736</td>\n",
              "      <td>-3.210528</td>\n",
              "      <td>0.062493</td>\n",
              "      <td>0.261718</td>\n",
              "      <td>1.436060</td>\n",
              "      <td>1.465940</td>\n",
              "      <td>0.636203</td>\n",
              "      <td>0.282354</td>\n",
              "      <td>0.515587</td>\n",
              "      <td>A</td>\n",
              "      <td>0</td>\n",
              "    </tr>\n",
              "    <tr>\n",
              "      <th>2</th>\n",
              "      <td>-0.116585</td>\n",
              "      <td>0.069915</td>\n",
              "      <td>0.068476</td>\n",
              "      <td>-0.783147</td>\n",
              "      <td>0.261718</td>\n",
              "      <td>0.439463</td>\n",
              "      <td>-0.081827</td>\n",
              "      <td>-0.888236</td>\n",
              "      <td>-0.123005</td>\n",
              "      <td>0.582939</td>\n",
              "      <td>A</td>\n",
              "      <td>0</td>\n",
              "    </tr>\n",
              "    <tr>\n",
              "      <th>3</th>\n",
              "      <td>0.031541</td>\n",
              "      <td>0.297600</td>\n",
              "      <td>-3.210528</td>\n",
              "      <td>-0.583590</td>\n",
              "      <td>-0.721442</td>\n",
              "      <td>-0.307984</td>\n",
              "      <td>0.710932</td>\n",
              "      <td>1.051693</td>\n",
              "      <td>0.594169</td>\n",
              "      <td>-0.533994</td>\n",
              "      <td>A</td>\n",
              "      <td>0</td>\n",
              "    </tr>\n",
              "    <tr>\n",
              "      <th>4</th>\n",
              "      <td>0.229043</td>\n",
              "      <td>0.807926</td>\n",
              "      <td>-0.052442</td>\n",
              "      <td>0.082634</td>\n",
              "      <td>0.261718</td>\n",
              "      <td>0.148790</td>\n",
              "      <td>0.635431</td>\n",
              "      <td>0.051062</td>\n",
              "      <td>0.032902</td>\n",
              "      <td>-0.086652</td>\n",
              "      <td>F</td>\n",
              "      <td>2</td>\n",
              "    </tr>\n",
              "    <tr>\n",
              "      <th>...</th>\n",
              "      <td>...</td>\n",
              "      <td>...</td>\n",
              "      <td>...</td>\n",
              "      <td>...</td>\n",
              "      <td>...</td>\n",
              "      <td>...</td>\n",
              "      <td>...</td>\n",
              "      <td>...</td>\n",
              "      <td>...</td>\n",
              "      <td>...</td>\n",
              "      <td>...</td>\n",
              "      <td>...</td>\n",
              "    </tr>\n",
              "    <tr>\n",
              "      <th>20859</th>\n",
              "      <td>-0.017834</td>\n",
              "      <td>0.234790</td>\n",
              "      <td>-0.180472</td>\n",
              "      <td>0.621032</td>\n",
              "      <td>0.261718</td>\n",
              "      <td>0.439463</td>\n",
              "      <td>0.673182</td>\n",
              "      <td>-0.262982</td>\n",
              "      <td>0.064084</td>\n",
              "      <td>0.140600</td>\n",
              "      <td>F</td>\n",
              "      <td>2</td>\n",
              "    </tr>\n",
              "    <tr>\n",
              "      <th>20861</th>\n",
              "      <td>-0.437525</td>\n",
              "      <td>0.423218</td>\n",
              "      <td>0.388552</td>\n",
              "      <td>0.620852</td>\n",
              "      <td>0.172340</td>\n",
              "      <td>-0.889332</td>\n",
              "      <td>0.144676</td>\n",
              "      <td>2.131034</td>\n",
              "      <td>1.373706</td>\n",
              "      <td>-0.771516</td>\n",
              "      <td>E</td>\n",
              "      <td>1</td>\n",
              "    </tr>\n",
              "    <tr>\n",
              "      <th>20864</th>\n",
              "      <td>-0.054866</td>\n",
              "      <td>0.580242</td>\n",
              "      <td>0.032912</td>\n",
              "      <td>-0.016668</td>\n",
              "      <td>0.261718</td>\n",
              "      <td>1.519109</td>\n",
              "      <td>0.371178</td>\n",
              "      <td>-0.985508</td>\n",
              "      <td>-0.403638</td>\n",
              "      <td>1.276301</td>\n",
              "      <td>A</td>\n",
              "      <td>0</td>\n",
              "    </tr>\n",
              "    <tr>\n",
              "      <th>20865</th>\n",
              "      <td>0.080916</td>\n",
              "      <td>0.588093</td>\n",
              "      <td>0.015130</td>\n",
              "      <td>0.002250</td>\n",
              "      <td>0.261718</td>\n",
              "      <td>-0.930856</td>\n",
              "      <td>-0.270579</td>\n",
              "      <td>0.163807</td>\n",
              "      <td>-0.091823</td>\n",
              "      <td>-0.593329</td>\n",
              "      <td>F</td>\n",
              "      <td>2</td>\n",
              "    </tr>\n",
              "    <tr>\n",
              "      <th>20866</th>\n",
              "      <td>0.377169</td>\n",
              "      <td>0.014957</td>\n",
              "      <td>0.381439</td>\n",
              "      <td>0.292753</td>\n",
              "      <td>0.261718</td>\n",
              "      <td>-1.470679</td>\n",
              "      <td>-0.006326</td>\n",
              "      <td>-0.494919</td>\n",
              "      <td>-0.247731</td>\n",
              "      <td>-1.212974</td>\n",
              "      <td>H</td>\n",
              "      <td>3</td>\n",
              "    </tr>\n",
              "  </tbody>\n",
              "</table>\n",
              "<p>15724 rows × 12 columns</p>\n",
              "</div>\n",
              "      <button class=\"colab-df-convert\" onclick=\"convertToInteractive('df-38b13e80-87e1-4c79-8f45-fb470cd4453c')\"\n",
              "              title=\"Convert this dataframe to an interactive table.\"\n",
              "              style=\"display:none;\">\n",
              "        \n",
              "  <svg xmlns=\"http://www.w3.org/2000/svg\" height=\"24px\"viewBox=\"0 0 24 24\"\n",
              "       width=\"24px\">\n",
              "    <path d=\"M0 0h24v24H0V0z\" fill=\"none\"/>\n",
              "    <path d=\"M18.56 5.44l.94 2.06.94-2.06 2.06-.94-2.06-.94-.94-2.06-.94 2.06-2.06.94zm-11 1L8.5 8.5l.94-2.06 2.06-.94-2.06-.94L8.5 2.5l-.94 2.06-2.06.94zm10 10l.94 2.06.94-2.06 2.06-.94-2.06-.94-.94-2.06-.94 2.06-2.06.94z\"/><path d=\"M17.41 7.96l-1.37-1.37c-.4-.4-.92-.59-1.43-.59-.52 0-1.04.2-1.43.59L10.3 9.45l-7.72 7.72c-.78.78-.78 2.05 0 2.83L4 21.41c.39.39.9.59 1.41.59.51 0 1.02-.2 1.41-.59l7.78-7.78 2.81-2.81c.8-.78.8-2.07 0-2.86zM5.41 20L4 18.59l7.72-7.72 1.47 1.35L5.41 20z\"/>\n",
              "  </svg>\n",
              "      </button>\n",
              "      \n",
              "  <style>\n",
              "    .colab-df-container {\n",
              "      display:flex;\n",
              "      flex-wrap:wrap;\n",
              "      gap: 12px;\n",
              "    }\n",
              "\n",
              "    .colab-df-convert {\n",
              "      background-color: #E8F0FE;\n",
              "      border: none;\n",
              "      border-radius: 50%;\n",
              "      cursor: pointer;\n",
              "      display: none;\n",
              "      fill: #1967D2;\n",
              "      height: 32px;\n",
              "      padding: 0 0 0 0;\n",
              "      width: 32px;\n",
              "    }\n",
              "\n",
              "    .colab-df-convert:hover {\n",
              "      background-color: #E2EBFA;\n",
              "      box-shadow: 0px 1px 2px rgba(60, 64, 67, 0.3), 0px 1px 3px 1px rgba(60, 64, 67, 0.15);\n",
              "      fill: #174EA6;\n",
              "    }\n",
              "\n",
              "    [theme=dark] .colab-df-convert {\n",
              "      background-color: #3B4455;\n",
              "      fill: #D2E3FC;\n",
              "    }\n",
              "\n",
              "    [theme=dark] .colab-df-convert:hover {\n",
              "      background-color: #434B5C;\n",
              "      box-shadow: 0px 1px 3px 1px rgba(0, 0, 0, 0.15);\n",
              "      filter: drop-shadow(0px 1px 2px rgba(0, 0, 0, 0.3));\n",
              "      fill: #FFFFFF;\n",
              "    }\n",
              "  </style>\n",
              "\n",
              "      <script>\n",
              "        const buttonEl =\n",
              "          document.querySelector('#df-38b13e80-87e1-4c79-8f45-fb470cd4453c button.colab-df-convert');\n",
              "        buttonEl.style.display =\n",
              "          google.colab.kernel.accessAllowed ? 'block' : 'none';\n",
              "\n",
              "        async function convertToInteractive(key) {\n",
              "          const element = document.querySelector('#df-38b13e80-87e1-4c79-8f45-fb470cd4453c');\n",
              "          const dataTable =\n",
              "            await google.colab.kernel.invokeFunction('convertToInteractive',\n",
              "                                                     [key], {});\n",
              "          if (!dataTable) return;\n",
              "\n",
              "          const docLinkHtml = 'Like what you see? Visit the ' +\n",
              "            '<a target=\"_blank\" href=https://colab.research.google.com/notebooks/data_table.ipynb>data table notebook</a>'\n",
              "            + ' to learn more about interactive tables.';\n",
              "          element.innerHTML = '';\n",
              "          dataTable['output_type'] = 'display_data';\n",
              "          await google.colab.output.renderOutput(dataTable, element);\n",
              "          const docLink = document.createElement('div');\n",
              "          docLink.innerHTML = docLinkHtml;\n",
              "          element.appendChild(docLink);\n",
              "        }\n",
              "      </script>\n",
              "    </div>\n",
              "  </div>\n",
              "  "
            ],
            "text/plain": [
              "       Intercolumnar distance   upper margin    lower margin   exploitation   \\\n",
              "0                     0.266074      -0.165620        0.320980       0.483299   \n",
              "1                     0.130292       0.870736       -3.210528       0.062493   \n",
              "2                    -0.116585       0.069915        0.068476      -0.783147   \n",
              "3                     0.031541       0.297600       -3.210528      -0.583590   \n",
              "4                     0.229043       0.807926       -0.052442       0.082634   \n",
              "...                        ...            ...             ...            ...   \n",
              "20859                -0.017834       0.234790       -0.180472       0.621032   \n",
              "20861                -0.437525       0.423218        0.388552       0.620852   \n",
              "20864                -0.054866       0.580242        0.032912      -0.016668   \n",
              "20865                 0.080916       0.588093        0.015130       0.002250   \n",
              "20866                 0.377169       0.014957        0.381439       0.292753   \n",
              "\n",
              "       row number   modular ratio   interlinear spacing    weight   \\\n",
              "0         0.172340        0.273364              0.371178  0.929823   \n",
              "1         0.261718        1.436060              1.465940  0.636203   \n",
              "2         0.261718        0.439463             -0.081827 -0.888236   \n",
              "3        -0.721442       -0.307984              0.710932  1.051693   \n",
              "4         0.261718        0.148790              0.635431  0.051062   \n",
              "...            ...             ...                   ...       ...   \n",
              "20859     0.261718        0.439463              0.673182 -0.262982   \n",
              "20861     0.172340       -0.889332              0.144676  2.131034   \n",
              "20864     0.261718        1.519109              0.371178 -0.985508   \n",
              "20865     0.261718       -0.930856             -0.270579  0.163807   \n",
              "20866     0.261718       -1.470679             -0.006326 -0.494919   \n",
              "\n",
              "        peak number   modular ratio/ interlinear spacing Class  encoded_class  \n",
              "0           0.251173                            0.159345     A              0  \n",
              "1           0.282354                            0.515587     A              0  \n",
              "2          -0.123005                            0.582939     A              0  \n",
              "3           0.594169                           -0.533994     A              0  \n",
              "4           0.032902                           -0.086652     F              2  \n",
              "...              ...                                 ...   ...            ...  \n",
              "20859       0.064084                            0.140600     F              2  \n",
              "20861       1.373706                           -0.771516     E              1  \n",
              "20864      -0.403638                            1.276301     A              0  \n",
              "20865      -0.091823                           -0.593329     F              2  \n",
              "20866      -0.247731                           -1.212974     H              3  \n",
              "\n",
              "[15724 rows x 12 columns]"
            ]
          },
          "execution_count": 13,
          "metadata": {},
          "output_type": "execute_result"
        }
      ],
      "source": [
        "#printing the dataframe\n",
        "dat_sub"
      ]
    },
    {
      "cell_type": "code",
      "execution_count": 14,
      "metadata": {
        "id": "QKUqcFFcpZll"
      },
      "outputs": [],
      "source": [
        "#taking X values as all the 10 columns except Class and encoded_class \n",
        "X=dat_sub.iloc[:,:10]"
      ]
    },
    {
      "cell_type": "code",
      "execution_count": 15,
      "metadata": {
        "id": "LvN7-c70p02y"
      },
      "outputs": [],
      "source": [
        "#taking y values as encoded_class\n",
        "y=dat_sub[\"encoded_class\"]"
      ]
    },
    {
      "cell_type": "code",
      "execution_count": 16,
      "metadata": {
        "id": "Nkhjn7C_q5Fi"
      },
      "outputs": [],
      "source": [
        "#importing train_test_split from sklearn library\n",
        "from sklearn.model_selection import train_test_split"
      ]
    },
    {
      "cell_type": "code",
      "execution_count": 17,
      "metadata": {
        "id": "qykKuGumq9AS"
      },
      "outputs": [],
      "source": [
        "#splitting the dataset into training and testing as 80% and 20%\n",
        "X_train, X_test, y_train, y_test = train_test_split(X, y, test_size=0.2, random_state=1)"
      ]
    },
    {
      "cell_type": "code",
      "execution_count": 18,
      "metadata": {
        "id": "J0txJUnbtgV-"
      },
      "outputs": [],
      "source": [
        "#importing SVC(support vector classifier) from svm (support vector machine)\n",
        "from sklearn.svm import SVC"
      ]
    },
    {
      "cell_type": "code",
      "execution_count": 19,
      "metadata": {
        "colab": {
          "base_uri": "https://localhost:8080/"
        },
        "id": "5QkksprLr8Y_",
        "outputId": "9f222a73-92ee-4451-8c4b-fb4b6f2b0643"
      },
      "outputs": [
        {
          "data": {
            "text/plain": [
              "SVC()"
            ]
          },
          "execution_count": 19,
          "metadata": {},
          "output_type": "execute_result"
        }
      ],
      "source": [
        "# Instantiate the Support Vector Classifier (SVC) with defaults\n",
        "svc = SVC()\n",
        " \n",
        "# Fitting the model\n",
        "svc.fit(X_train, y_train)"
      ]
    },
    {
      "cell_type": "code",
      "execution_count": 20,
      "metadata": {
        "colab": {
          "base_uri": "https://localhost:8080/"
        },
        "id": "-fktD69Ht0ze",
        "outputId": "494c896b-14fb-4bb1-fb16-c82975ff2bac"
      },
      "outputs": [
        {
          "data": {
            "text/plain": [
              "array([0, 0, 0, ..., 0, 1, 0])"
            ]
          },
          "execution_count": 20,
          "metadata": {},
          "output_type": "execute_result"
        }
      ],
      "source": [
        "#Predict the response for test dataset\n",
        "y_pred = svc.predict(X_test)\n",
        "y_pred"
      ]
    },
    {
      "cell_type": "code",
      "execution_count": 35,
      "metadata": {
        "colab": {
          "base_uri": "https://localhost:8080/"
        },
        "id": "TrXRpnvHUAS9",
        "outputId": "e192a118-ec22-4d1e-af8e-9778c9841474"
      },
      "outputs": [
        {
          "name": "stdout",
          "output_type": "stream",
          "text": [
            "Mean Squared Error is: 1.1440381558028616\n"
          ]
        }
      ],
      "source": [
        "#importing mean_squared_error(MSE) from sklearn library and finding MSE\n",
        "from sklearn.metrics import mean_squared_error\n",
        "mse_default=mean_squared_error(y_test,y_pred)\n",
        "print('Mean Squared Error is:',mse_default)"
      ]
    },
    {
      "cell_type": "code",
      "execution_count": 32,
      "metadata": {
        "colab": {
          "base_uri": "https://localhost:8080/"
        },
        "id": "5-oU0dw1Fir0",
        "outputId": "d52a5deb-3f06-4441-8361-ff4ddae5f048"
      },
      "outputs": [
        {
          "name": "stdout",
          "output_type": "stream",
          "text": [
            "Looking in indexes: https://pypi.org/simple, https://us-python.pkg.dev/colab-wheels/public/simple/\n",
            "Collecting dmba\n",
            "  Downloading dmba-0.1.0-py3-none-any.whl (11.8 MB)\n",
            "\u001b[K     |████████████████████████████████| 11.8 MB 4.7 MB/s \n",
            "\u001b[?25hInstalling collected packages: dmba\n",
            "Successfully installed dmba-0.1.0\n"
          ]
        }
      ],
      "source": [
        "pip install dmba"
      ]
    },
    {
      "cell_type": "code",
      "execution_count": 34,
      "metadata": {
        "colab": {
          "base_uri": "https://localhost:8080/"
        },
        "id": "gXLJpXh_GCLE",
        "outputId": "5a3be50a-62f1-445c-fe6c-12f09f2103e3"
      },
      "outputs": [
        {
          "name": "stdout",
          "output_type": "stream",
          "text": [
            "Confusion Matrix (Accuracy 0.7280)\n",
            "\n",
            "       Prediction\n",
            "Actual    0    1    2    3\n",
            "     0 6348  118  336   55\n",
            "     1  319 1295   74   52\n",
            "     2 1985   59 1087   14\n",
            "     3  294   49   66  428\n",
            "Confusion Matrix (Accuracy 0.7135)\n",
            "\n",
            "       Prediction\n",
            "Actual    0    1    2    3\n",
            "     0 1588   15  101   11\n",
            "     1   89  327   24   10\n",
            "     2  516   18  243    1\n",
            "     3   88    8   20   86\n"
          ]
        }
      ],
      "source": [
        "#importing the classificationSummary from Data mining business analytics library\n",
        "#finding the classificationSummary for both training and testing \n",
        "from dmba import classificationSummary\n",
        "# training  \n",
        "classificationSummary(y_train, svc.predict(X_train))\n",
        "# test  \n",
        "classificationSummary(y_test, svc.predict(X_test))"
      ]
    },
    {
      "cell_type": "markdown",
      "metadata": {
        "id": "8RLEL8bR_CTC"
      },
      "source": [
        "*For SVC Default Model* \n",
        "\n",
        "Accuracy for training data is 72.80%\n",
        "\n",
        "\n",
        "Accuracy for testing data is 71.35%\n"
      ]
    },
    {
      "cell_type": "code",
      "execution_count": 21,
      "metadata": {
        "colab": {
          "base_uri": "https://localhost:8080/"
        },
        "id": "8nNP4yxOusTG",
        "outputId": "24456b0c-ef56-473c-8d9f-9817c296e2d7"
      },
      "outputs": [
        {
          "name": "stdout",
          "output_type": "stream",
          "text": [
            "              precision    recall  f1-score   support\n",
            "\n",
            "           0       0.70      0.93      0.79      1715\n",
            "           1       0.89      0.73      0.80       450\n",
            "           2       0.63      0.31      0.42       778\n",
            "           3       0.80      0.43      0.55       202\n",
            "\n",
            "    accuracy                           0.71      3145\n",
            "   macro avg       0.75      0.60      0.64      3145\n",
            "weighted avg       0.71      0.71      0.69      3145\n",
            "\n"
          ]
        }
      ],
      "source": [
        "from sklearn import metrics\n",
        "print(metrics.classification_report(y_test,y_pred))"
      ]
    },
    {
      "cell_type": "code",
      "execution_count": 26,
      "metadata": {
        "colab": {
          "base_uri": "https://localhost:8080/"
        },
        "id": "wlNx13Is8CSF",
        "outputId": "b0f3cf0b-3d5b-4de8-a3d7-5aedc1cb4202"
      },
      "outputs": [
        {
          "name": "stdout",
          "output_type": "stream",
          "text": [
            "Balanced accuracy score for SVC default model =  0.5976740236023798\n"
          ]
        }
      ],
      "source": [
        "#calculating balanced_accuracy_score\n",
        "balanced_accuracy_score=metrics.balanced_accuracy_score(y_test,y_pred)\n",
        "print(\"Balanced accuracy score for SVC default model = \",balanced_accuracy_score)"
      ]
    },
    {
      "cell_type": "code",
      "execution_count": 25,
      "metadata": {
        "colab": {
          "base_uri": "https://localhost:8080/"
        },
        "id": "VJjqE9dU8K4_",
        "outputId": "87ceac13-4d35-4331-c629-e1a16962b68a"
      },
      "outputs": [
        {
          "name": "stdout",
          "output_type": "stream",
          "text": [
            "Balanced error rate for SVC default model =  0.40232597639762024\n"
          ]
        }
      ],
      "source": [
        "#calcutating balanced_error_rate (which is 1-balanced_accuracy_score)\n",
        "Balanced_error_rate=1-balanced_accuracy_score\n",
        "print(\"Balanced error rate for SVC default model = \",Balanced_error_rate)"
      ]
    },
    {
      "cell_type": "markdown",
      "metadata": {
        "id": "LV78GFMyA7fB"
      },
      "source": [
        "###Trying to increase our model performance by Hyperparameter tuning using GridSearchCV"
      ]
    },
    {
      "cell_type": "code",
      "execution_count": 28,
      "metadata": {
        "colab": {
          "base_uri": "https://localhost:8080/"
        },
        "id": "gycECcemNt-V",
        "outputId": "a89b4e98-ee37-463f-d517-24b708f1065a"
      },
      "outputs": [
        {
          "name": "stdout",
          "output_type": "stream",
          "text": [
            "Fitting 5 folds for each of 25 candidates, totalling 125 fits\n",
            "[CV 1/5] END ........C=0.1, gamma=1, kernel=rbf;, score=0.674 total time=   7.9s\n",
            "[CV 2/5] END ........C=0.1, gamma=1, kernel=rbf;, score=0.693 total time=   7.8s\n",
            "[CV 3/5] END ........C=0.1, gamma=1, kernel=rbf;, score=0.689 total time=   9.2s\n",
            "[CV 4/5] END ........C=0.1, gamma=1, kernel=rbf;, score=0.681 total time=   9.0s\n",
            "[CV 5/5] END ........C=0.1, gamma=1, kernel=rbf;, score=0.692 total time=   9.3s\n",
            "[CV 1/5] END ......C=0.1, gamma=0.1, kernel=rbf;, score=0.664 total time=   7.4s\n",
            "[CV 2/5] END ......C=0.1, gamma=0.1, kernel=rbf;, score=0.669 total time=   7.4s\n",
            "[CV 3/5] END ......C=0.1, gamma=0.1, kernel=rbf;, score=0.668 total time=   8.7s\n",
            "[CV 4/5] END ......C=0.1, gamma=0.1, kernel=rbf;, score=0.674 total time=   6.6s\n",
            "[CV 5/5] END ......C=0.1, gamma=0.1, kernel=rbf;, score=0.680 total time=   8.9s\n",
            "[CV 1/5] END .....C=0.1, gamma=0.01, kernel=rbf;, score=0.545 total time=   9.4s\n",
            "[CV 2/5] END .....C=0.1, gamma=0.01, kernel=rbf;, score=0.545 total time=   7.4s\n",
            "[CV 3/5] END .....C=0.1, gamma=0.01, kernel=rbf;, score=0.545 total time=   8.4s\n",
            "[CV 4/5] END .....C=0.1, gamma=0.01, kernel=rbf;, score=0.545 total time=   8.5s\n",
            "[CV 5/5] END .....C=0.1, gamma=0.01, kernel=rbf;, score=0.545 total time=   7.1s\n",
            "[CV 1/5] END ....C=0.1, gamma=0.001, kernel=rbf;, score=0.545 total time=   6.9s\n",
            "[CV 2/5] END ....C=0.1, gamma=0.001, kernel=rbf;, score=0.545 total time=   9.3s\n",
            "[CV 3/5] END ....C=0.1, gamma=0.001, kernel=rbf;, score=0.545 total time=   9.5s\n",
            "[CV 4/5] END ....C=0.1, gamma=0.001, kernel=rbf;, score=0.545 total time=   7.6s\n",
            "[CV 5/5] END ....C=0.1, gamma=0.001, kernel=rbf;, score=0.545 total time=   8.8s\n",
            "[CV 1/5] END ...C=0.1, gamma=0.0001, kernel=rbf;, score=0.545 total time=   6.9s\n",
            "[CV 2/5] END ...C=0.1, gamma=0.0001, kernel=rbf;, score=0.545 total time=   6.6s\n",
            "[CV 3/5] END ...C=0.1, gamma=0.0001, kernel=rbf;, score=0.545 total time=   6.9s\n",
            "[CV 4/5] END ...C=0.1, gamma=0.0001, kernel=rbf;, score=0.545 total time=   8.1s\n",
            "[CV 5/5] END ...C=0.1, gamma=0.0001, kernel=rbf;, score=0.545 total time=   7.4s\n",
            "[CV 1/5] END ..........C=1, gamma=1, kernel=rbf;, score=0.806 total time=   7.4s\n",
            "[CV 2/5] END ..........C=1, gamma=1, kernel=rbf;, score=0.819 total time=   6.7s\n",
            "[CV 3/5] END ..........C=1, gamma=1, kernel=rbf;, score=0.816 total time=   6.7s\n",
            "[CV 4/5] END ..........C=1, gamma=1, kernel=rbf;, score=0.816 total time=   6.6s\n",
            "[CV 5/5] END ..........C=1, gamma=1, kernel=rbf;, score=0.806 total time=   6.6s\n",
            "[CV 1/5] END ........C=1, gamma=0.1, kernel=rbf;, score=0.738 total time=   5.4s\n",
            "[CV 2/5] END ........C=1, gamma=0.1, kernel=rbf;, score=0.755 total time=   6.6s\n",
            "[CV 3/5] END ........C=1, gamma=0.1, kernel=rbf;, score=0.751 total time=   5.9s\n",
            "[CV 4/5] END ........C=1, gamma=0.1, kernel=rbf;, score=0.758 total time=   5.5s\n",
            "[CV 5/5] END ........C=1, gamma=0.1, kernel=rbf;, score=0.748 total time=   5.4s\n",
            "[CV 1/5] END .......C=1, gamma=0.01, kernel=rbf;, score=0.612 total time=   7.4s\n",
            "[CV 2/5] END .......C=1, gamma=0.01, kernel=rbf;, score=0.623 total time=   9.8s\n",
            "[CV 3/5] END .......C=1, gamma=0.01, kernel=rbf;, score=0.622 total time=   7.5s\n",
            "[CV 4/5] END .......C=1, gamma=0.01, kernel=rbf;, score=0.623 total time=   7.8s\n",
            "[CV 5/5] END .......C=1, gamma=0.01, kernel=rbf;, score=0.623 total time=   7.0s\n",
            "[CV 1/5] END ......C=1, gamma=0.001, kernel=rbf;, score=0.545 total time=   7.3s\n",
            "[CV 2/5] END ......C=1, gamma=0.001, kernel=rbf;, score=0.545 total time=   7.8s\n",
            "[CV 3/5] END ......C=1, gamma=0.001, kernel=rbf;, score=0.545 total time=   7.3s\n",
            "[CV 4/5] END ......C=1, gamma=0.001, kernel=rbf;, score=0.545 total time=   7.7s\n",
            "[CV 5/5] END ......C=1, gamma=0.001, kernel=rbf;, score=0.545 total time=   7.5s\n",
            "[CV 1/5] END .....C=1, gamma=0.0001, kernel=rbf;, score=0.545 total time=   6.9s\n",
            "[CV 2/5] END .....C=1, gamma=0.0001, kernel=rbf;, score=0.545 total time=   7.0s\n",
            "[CV 3/5] END .....C=1, gamma=0.0001, kernel=rbf;, score=0.545 total time=   6.8s\n",
            "[CV 4/5] END .....C=1, gamma=0.0001, kernel=rbf;, score=0.545 total time=   6.9s\n",
            "[CV 5/5] END .....C=1, gamma=0.0001, kernel=rbf;, score=0.545 total time=   7.0s\n",
            "[CV 1/5] END .........C=10, gamma=1, kernel=rbf;, score=0.844 total time=  10.1s\n",
            "[CV 2/5] END .........C=10, gamma=1, kernel=rbf;, score=0.859 total time=   7.8s\n",
            "[CV 3/5] END .........C=10, gamma=1, kernel=rbf;, score=0.855 total time=   7.3s\n",
            "[CV 4/5] END .........C=10, gamma=1, kernel=rbf;, score=0.855 total time=   7.2s\n",
            "[CV 5/5] END .........C=10, gamma=1, kernel=rbf;, score=0.841 total time=   7.0s\n",
            "[CV 1/5] END .......C=10, gamma=0.1, kernel=rbf;, score=0.789 total time=   5.0s\n",
            "[CV 2/5] END .......C=10, gamma=0.1, kernel=rbf;, score=0.804 total time=   6.9s\n",
            "[CV 3/5] END .......C=10, gamma=0.1, kernel=rbf;, score=0.805 total time=   7.6s\n",
            "[CV 4/5] END .......C=10, gamma=0.1, kernel=rbf;, score=0.801 total time=   5.9s\n",
            "[CV 5/5] END .......C=10, gamma=0.1, kernel=rbf;, score=0.788 total time=   5.0s\n",
            "[CV 1/5] END ......C=10, gamma=0.01, kernel=rbf;, score=0.692 total time=   6.1s\n",
            "[CV 2/5] END ......C=10, gamma=0.01, kernel=rbf;, score=0.696 total time=   6.1s\n",
            "[CV 3/5] END ......C=10, gamma=0.01, kernel=rbf;, score=0.692 total time=   6.2s\n",
            "[CV 4/5] END ......C=10, gamma=0.01, kernel=rbf;, score=0.698 total time=   6.1s\n",
            "[CV 5/5] END ......C=10, gamma=0.01, kernel=rbf;, score=0.692 total time=   6.0s\n",
            "[CV 1/5] END .....C=10, gamma=0.001, kernel=rbf;, score=0.565 total time=   7.6s\n",
            "[CV 2/5] END .....C=10, gamma=0.001, kernel=rbf;, score=0.563 total time=   7.4s\n",
            "[CV 3/5] END .....C=10, gamma=0.001, kernel=rbf;, score=0.548 total time=   7.5s\n",
            "[CV 4/5] END .....C=10, gamma=0.001, kernel=rbf;, score=0.576 total time=   7.3s\n",
            "[CV 5/5] END .....C=10, gamma=0.001, kernel=rbf;, score=0.569 total time=   7.6s\n",
            "[CV 1/5] END ....C=10, gamma=0.0001, kernel=rbf;, score=0.545 total time=   7.4s\n",
            "[CV 2/5] END ....C=10, gamma=0.0001, kernel=rbf;, score=0.545 total time=   7.4s\n",
            "[CV 3/5] END ....C=10, gamma=0.0001, kernel=rbf;, score=0.545 total time=   8.4s\n",
            "[CV 4/5] END ....C=10, gamma=0.0001, kernel=rbf;, score=0.545 total time=   7.4s\n",
            "[CV 5/5] END ....C=10, gamma=0.0001, kernel=rbf;, score=0.545 total time=   7.3s\n",
            "[CV 1/5] END ........C=100, gamma=1, kernel=rbf;, score=0.850 total time=  10.7s\n",
            "[CV 2/5] END ........C=100, gamma=1, kernel=rbf;, score=0.862 total time=  11.1s\n",
            "[CV 3/5] END ........C=100, gamma=1, kernel=rbf;, score=0.855 total time=  11.1s\n",
            "[CV 4/5] END ........C=100, gamma=1, kernel=rbf;, score=0.853 total time=  11.2s\n",
            "[CV 5/5] END ........C=100, gamma=1, kernel=rbf;, score=0.843 total time=  11.2s\n",
            "[CV 1/5] END ......C=100, gamma=0.1, kernel=rbf;, score=0.812 total time=   6.8s\n",
            "[CV 2/5] END ......C=100, gamma=0.1, kernel=rbf;, score=0.835 total time=   7.1s\n",
            "[CV 3/5] END ......C=100, gamma=0.1, kernel=rbf;, score=0.831 total time=   7.2s\n",
            "[CV 4/5] END ......C=100, gamma=0.1, kernel=rbf;, score=0.822 total time=   7.0s\n",
            "[CV 5/5] END ......C=100, gamma=0.1, kernel=rbf;, score=0.818 total time=   6.8s\n",
            "[CV 1/5] END .....C=100, gamma=0.01, kernel=rbf;, score=0.732 total time=   6.6s\n",
            "[CV 2/5] END .....C=100, gamma=0.01, kernel=rbf;, score=0.746 total time=   6.6s\n",
            "[CV 3/5] END .....C=100, gamma=0.01, kernel=rbf;, score=0.737 total time=   6.8s\n",
            "[CV 4/5] END .....C=100, gamma=0.01, kernel=rbf;, score=0.754 total time=   6.7s\n",
            "[CV 5/5] END .....C=100, gamma=0.01, kernel=rbf;, score=0.736 total time=   7.8s\n",
            "[CV 1/5] END ....C=100, gamma=0.001, kernel=rbf;, score=0.618 total time=   7.9s\n",
            "[CV 2/5] END ....C=100, gamma=0.001, kernel=rbf;, score=0.625 total time=   7.8s\n",
            "[CV 3/5] END ....C=100, gamma=0.001, kernel=rbf;, score=0.629 total time=   7.8s\n",
            "[CV 4/5] END ....C=100, gamma=0.001, kernel=rbf;, score=0.628 total time=   7.8s\n",
            "[CV 5/5] END ....C=100, gamma=0.001, kernel=rbf;, score=0.630 total time=   7.8s\n",
            "[CV 1/5] END ...C=100, gamma=0.0001, kernel=rbf;, score=0.547 total time=   8.9s\n",
            "[CV 2/5] END ...C=100, gamma=0.0001, kernel=rbf;, score=0.543 total time=   8.9s\n",
            "[CV 3/5] END ...C=100, gamma=0.0001, kernel=rbf;, score=0.545 total time=   8.9s\n",
            "[CV 4/5] END ...C=100, gamma=0.0001, kernel=rbf;, score=0.550 total time=   9.1s\n",
            "[CV 5/5] END ...C=100, gamma=0.0001, kernel=rbf;, score=0.548 total time=   8.7s\n",
            "[CV 1/5] END .......C=1000, gamma=1, kernel=rbf;, score=0.839 total time=  21.8s\n",
            "[CV 2/5] END .......C=1000, gamma=1, kernel=rbf;, score=0.849 total time=  21.3s\n",
            "[CV 3/5] END .......C=1000, gamma=1, kernel=rbf;, score=0.843 total time=  22.0s\n",
            "[CV 4/5] END .......C=1000, gamma=1, kernel=rbf;, score=0.853 total time=  21.1s\n",
            "[CV 5/5] END .......C=1000, gamma=1, kernel=rbf;, score=0.836 total time=  21.4s\n",
            "[CV 1/5] END .....C=1000, gamma=0.1, kernel=rbf;, score=0.828 total time=  18.1s\n",
            "[CV 2/5] END .....C=1000, gamma=0.1, kernel=rbf;, score=0.861 total time=  21.5s\n",
            "[CV 3/5] END .....C=1000, gamma=0.1, kernel=rbf;, score=0.860 total time=  19.7s\n",
            "[CV 4/5] END .....C=1000, gamma=0.1, kernel=rbf;, score=0.847 total time=  19.3s\n",
            "[CV 5/5] END .....C=1000, gamma=0.1, kernel=rbf;, score=0.843 total time=  19.9s\n",
            "[CV 1/5] END ....C=1000, gamma=0.01, kernel=rbf;, score=0.759 total time=  12.2s\n",
            "[CV 2/5] END ....C=1000, gamma=0.01, kernel=rbf;, score=0.773 total time=  11.7s\n",
            "[CV 3/5] END ....C=1000, gamma=0.01, kernel=rbf;, score=0.773 total time=  11.8s\n",
            "[CV 4/5] END ....C=1000, gamma=0.01, kernel=rbf;, score=0.784 total time=  11.8s\n",
            "[CV 5/5] END ....C=1000, gamma=0.01, kernel=rbf;, score=0.762 total time=  11.7s\n",
            "[CV 1/5] END ...C=1000, gamma=0.001, kernel=rbf;, score=0.671 total time=   9.3s\n",
            "[CV 2/5] END ...C=1000, gamma=0.001, kernel=rbf;, score=0.676 total time=   9.6s\n",
            "[CV 3/5] END ...C=1000, gamma=0.001, kernel=rbf;, score=0.667 total time=  10.0s\n",
            "[CV 4/5] END ...C=1000, gamma=0.001, kernel=rbf;, score=0.678 total time=   9.8s\n",
            "[CV 5/5] END ...C=1000, gamma=0.001, kernel=rbf;, score=0.670 total time=   9.4s\n",
            "[CV 1/5] END ..C=1000, gamma=0.0001, kernel=rbf;, score=0.599 total time=  10.0s\n",
            "[CV 2/5] END ..C=1000, gamma=0.0001, kernel=rbf;, score=0.602 total time=   9.9s\n",
            "[CV 3/5] END ..C=1000, gamma=0.0001, kernel=rbf;, score=0.599 total time=  10.1s\n",
            "[CV 4/5] END ..C=1000, gamma=0.0001, kernel=rbf;, score=0.603 total time=  10.8s\n",
            "[CV 5/5] END ..C=1000, gamma=0.0001, kernel=rbf;, score=0.602 total time=   9.6s\n"
          ]
        },
        {
          "data": {
            "text/plain": [
              "GridSearchCV(estimator=SVC(),\n",
              "             param_grid={'C': [0.1, 1, 10, 100, 1000],\n",
              "                         'gamma': [1, 0.1, 0.01, 0.001, 0.0001],\n",
              "                         'kernel': ['rbf']},\n",
              "             verbose=3)"
            ]
          },
          "execution_count": 28,
          "metadata": {},
          "output_type": "execute_result"
        }
      ],
      "source": [
        "#improving models performance by using GridSearchCV\n",
        "from sklearn.model_selection import GridSearchCV\n",
        "  \n",
        "# defining parameter range\n",
        "param_grid = {'C': [0.1, 1, 10, 100, 1000], \n",
        "              'gamma': [1, 0.1, 0.01, 0.001, 0.0001],\n",
        "              'kernel': ['rbf']} \n",
        "  \n",
        "grid = GridSearchCV(SVC(), param_grid, refit = True, verbose = 3)\n",
        "  \n",
        "# fitting the model for grid search\n",
        "grid.fit(X_train, y_train)"
      ]
    },
    {
      "cell_type": "code",
      "execution_count": 29,
      "metadata": {
        "colab": {
          "base_uri": "https://localhost:8080/"
        },
        "id": "w9PQUDm0S_-5",
        "outputId": "82ddb504-0014-489e-d89b-5c7d6b450dce"
      },
      "outputs": [
        {
          "name": "stdout",
          "output_type": "stream",
          "text": [
            "{'C': 100, 'gamma': 1, 'kernel': 'rbf'}\n",
            "SVC(C=100, gamma=1)\n"
          ]
        }
      ],
      "source": [
        "# printing best parameter after tuning\n",
        "print(grid.best_params_)\n",
        "  \n",
        "# printing how our model looks after hyper-parameter tuning\n",
        "print(grid.best_estimator_)"
      ]
    },
    {
      "cell_type": "code",
      "execution_count": 30,
      "metadata": {
        "colab": {
          "base_uri": "https://localhost:8080/"
        },
        "id": "nEdc12bRTUE3",
        "outputId": "86b4577a-e659-4575-82c1-064c6c05abe7"
      },
      "outputs": [
        {
          "name": "stdout",
          "output_type": "stream",
          "text": [
            "              precision    recall  f1-score   support\n",
            "\n",
            "           0       0.86      0.91      0.89      1715\n",
            "           1       0.94      0.86      0.90       450\n",
            "           2       0.80      0.76      0.78       778\n",
            "           3       0.87      0.78      0.83       202\n",
            "\n",
            "    accuracy                           0.86      3145\n",
            "   macro avg       0.87      0.83      0.85      3145\n",
            "weighted avg       0.86      0.86      0.86      3145\n",
            "\n"
          ]
        }
      ],
      "source": [
        "#Predict the response for test dataset\n",
        "grid_predictions = grid.predict(X_test)\n",
        "  \n",
        "# printing classification report\n",
        "print(metrics.classification_report(y_test, grid_predictions))"
      ]
    },
    {
      "cell_type": "code",
      "execution_count": 36,
      "metadata": {
        "colab": {
          "base_uri": "https://localhost:8080/"
        },
        "id": "ScxSsuI5WTxK",
        "outputId": "61459e6b-4ea4-41ea-8036-8dac868de3c9"
      },
      "outputs": [
        {
          "name": "stdout",
          "output_type": "stream",
          "text": [
            "Confusion Matrix (Accuracy 0.9793)\n",
            "\n",
            "       Prediction\n",
            "Actual    0    1    2    3\n",
            "     0 6747    0  108    2\n",
            "     1    0 1740    0    0\n",
            "     2  141    0 3003    1\n",
            "     3    7    0    2  828\n",
            "Confusion Matrix (Accuracy 0.8588)\n",
            "\n",
            "       Prediction\n",
            "Actual    0    1    2    3\n",
            "     0 1564    7  127   17\n",
            "     1   46  389   11    4\n",
            "     2  177    9  590    2\n",
            "     3   25    7   12  158\n"
          ]
        }
      ],
      "source": [
        "#finding the classificationSummary for both training and testing \n",
        "# training  \n",
        "classificationSummary(y_train, grid.predict(X_train))\n",
        "# test  \n",
        "classificationSummary(y_test, grid.predict(X_test))"
      ]
    },
    {
      "cell_type": "markdown",
      "metadata": {
        "id": "SHUKW1TfB9Al"
      },
      "source": [
        "*For SVC Model after tuning* \n",
        "\n",
        "Accuracy for training data is 97.93%\n",
        "\n",
        "\n",
        "Accuracy for testing data is 85.88%"
      ]
    },
    {
      "cell_type": "code",
      "execution_count": 41,
      "metadata": {
        "colab": {
          "base_uri": "https://localhost:8080/"
        },
        "id": "-f4xuOEKUYf4",
        "outputId": "f2445a25-a675-40a1-862c-744c3a781be2"
      },
      "outputs": [
        {
          "name": "stdout",
          "output_type": "stream",
          "text": [
            "Mean Squared Error is: 0.548489666136725\n"
          ]
        }
      ],
      "source": [
        "#importing mean_squared_error(MSE) from sklearn library and finding MSE\n",
        "from sklearn.metrics import mean_squared_error\n",
        "mse_after_tuning=mean_squared_error(y_test,grid_predictions)\n",
        "print('Mean Squared Error is:',mse_after_tuning)"
      ]
    },
    {
      "cell_type": "code",
      "execution_count": 40,
      "metadata": {
        "colab": {
          "base_uri": "https://localhost:8080/"
        },
        "id": "0mQPb9d2Tr1A",
        "outputId": "a9707ff6-77ad-4993-d82a-c20544956d9c"
      },
      "outputs": [
        {
          "name": "stdout",
          "output_type": "stream",
          "text": [
            "Balanced accuracy score for SVC model after tuning=  0.829232692704992\n"
          ]
        }
      ],
      "source": [
        "#calculating balanced_accuracy_score\n",
        "balanced_accuracy_score1=metrics.balanced_accuracy_score(y_test,grid_predictions)\n",
        "print(\"Balanced accuracy score for SVC model after tuning= \",balanced_accuracy_score1)"
      ]
    },
    {
      "cell_type": "code",
      "execution_count": 39,
      "metadata": {
        "colab": {
          "base_uri": "https://localhost:8080/"
        },
        "id": "hoP2niPXT7AN",
        "outputId": "e4f538f1-10fa-40ed-9b60-8f302d121068"
      },
      "outputs": [
        {
          "name": "stdout",
          "output_type": "stream",
          "text": [
            "Balanced error rate for SVC model after tuning =  0.170767307295008\n"
          ]
        }
      ],
      "source": [
        "#calcutating balanced_error_rate (which is 1-balanced_accuracy_score)\n",
        "Balanced_error_rate1=1-balanced_accuracy_score1\n",
        "print(\"Balanced error rate for SVC model after tuning = \",Balanced_error_rate1)"
      ]
    },
    {
      "cell_type": "markdown",
      "metadata": {
        "id": "pE4uvOw7ePpi"
      },
      "source": [
        "As we know that lower the error better the model and higher the accuracy the better the performance of the model.\n",
        "We can conclude from the above table after performing **Hyperparameter tuning** which resulted in **lower mean squared error** is the better model. And, the **Accuracy** for training and testing of the model also **increased**.\n",
        "\n",
        "\n",
        "*   **Balanced_error_rate** of the model after performing tuning resulted to have **lower** than the model before tuning.\n",
        "\n",
        "\n",
        "\n",
        "\n",
        "\n",
        "\n"
      ]
    }
  ],
  "metadata": {
    "colab": {
      "provenance": []
    },
    "kernelspec": {
      "display_name": "Python 3",
      "name": "python3"
    },
    "language_info": {
      "name": "python"
    }
  },
  "nbformat": 4,
  "nbformat_minor": 0
}
